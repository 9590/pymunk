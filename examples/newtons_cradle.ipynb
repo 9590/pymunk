{
 "cells": [
  {
   "cell_type": "code",
   "execution_count": 1,
   "metadata": {
    "collapsed": true
   },
   "outputs": [],
   "source": [
    "import sys\n",
    "sys.path.insert(1,'c:/code/gh/pymunk')"
   ]
  },
  {
   "cell_type": "code",
   "execution_count": 2,
   "metadata": {
    "collapsed": false
   },
   "outputs": [],
   "source": [
    "%matplotlib inline\n",
    "import matplotlib.pyplot as plt\n",
    "from matplotlib import animation\n",
    "from IPython.display import HTML"
   ]
  },
  {
   "cell_type": "code",
   "execution_count": 3,
   "metadata": {
    "collapsed": false
   },
   "outputs": [
    {
     "name": "stdout",
     "output_type": "stream",
     "text": [
      "Loading chipmunk for Windows (64bit) [c:\\code\\gh\\pymunk\\pymunk\\chipmunk64.dll]\n"
     ]
    }
   ],
   "source": [
    "import pymunk\n",
    "from pymunk.vec2d import Vec2d"
   ]
  },
  {
   "cell_type": "code",
   "execution_count": 4,
   "metadata": {
    "collapsed": true
   },
   "outputs": [],
   "source": [
    "def setup_space():\n",
    "    space = pymunk.Space()\n",
    "    space.gravity = 0,-9820\n",
    "    space.damping = 0.99\n",
    "    return space\n"
   ]
  },
  {
   "cell_type": "code",
   "execution_count": 5,
   "metadata": {
    "collapsed": true
   },
   "outputs": [],
   "source": [
    "def setup_balls(space):\n",
    "    width = 600\n",
    "    height = 600\n",
    "    for x in range(-100,150,50):\n",
    "        x += width / 2\n",
    "        offset_y = height/2\n",
    "        mass = 10\n",
    "        radius = 25\n",
    "        moment = pymunk.moment_for_circle(mass, 0, radius, (0,0))\n",
    "        body = pymunk.Body(mass, moment)\n",
    "        body.position = x, -125+offset_y\n",
    "        body.start_position = Vec2d(body.position)\n",
    "        shape = pymunk.Circle(body, radius)\n",
    "        shape.elasticity = 0.9999999\n",
    "        space.add(body, shape)\n",
    "        pj = pymunk.PinJoint(space.static_body, body, (x, 125+offset_y), (0,0))\n",
    "        space.add(pj)"
   ]
  },
  {
   "cell_type": "code",
   "execution_count": 6,
   "metadata": {
    "collapsed": false,
    "scrolled": true
   },
   "outputs": [
    {
     "name": "stdout",
     "output_type": "stream",
     "text": [
      "Vec2d(300.0, 425.0) Vec2d(300.0, 175.0)\n",
      "Vec2d(200.0, 425.0) Vec2d(200.0, 175.0)\n",
      "Vec2d(250.0, 425.0) Vec2d(250.0, 175.0)\n",
      "Vec2d(400.0, 425.0) Vec2d(400.0, 175.0)\n",
      "Vec2d(350.0, 425.0) Vec2d(350.0, 175.0)\n"
     ]
    },
    {
     "data": {
      "text/html": [
       "<video width=\"432.0\" height=\"288.0\" controls autoplay loop>\n",
       "  <source type=\"video/mp4\" src=\"data:video/mp4;base64,AAAAHGZ0eXBNNFYgAAACAGlzb21pc28yYXZjMQAAAAhmcmVlAAAJ421kYXQAAAKuBgX//6rcRem9\n",
       "5tlIt5Ys2CDZI+7veDI2NCAtIGNvcmUgMTQ4IHIyNjk0IDNiNzA2NDUgLSBILjI2NC9NUEVHLTQg\n",
       "QVZDIGNvZGVjIC0gQ29weWxlZnQgMjAwMy0yMDE2IC0gaHR0cDovL3d3dy52aWRlb2xhbi5vcmcv\n",
       "eDI2NC5odG1sIC0gb3B0aW9uczogY2FiYWM9MSByZWY9MyBkZWJsb2NrPTE6MDowIGFuYWx5c2U9\n",
       "MHgzOjB4MTEzIG1lPWhleCBzdWJtZT03IHBzeT0xIHBzeV9yZD0xLjAwOjAuMDAgbWl4ZWRfcmVm\n",
       "PTEgbWVfcmFuZ2U9MTYgY2hyb21hX21lPTEgdHJlbGxpcz0xIDh4OGRjdD0xIGNxbT0wIGRlYWR6\n",
       "b25lPTIxLDExIGZhc3RfcHNraXA9MSBjaHJvbWFfcXBfb2Zmc2V0PS0yIHRocmVhZHM9NiBsb29r\n",
       "YWhlYWRfdGhyZWFkcz0xIHNsaWNlZF90aHJlYWRzPTAgbnI9MCBkZWNpbWF0ZT0xIGludGVybGFj\n",
       "ZWQ9MCBibHVyYXlfY29tcGF0PTAgY29uc3RyYWluZWRfaW50cmE9MCBiZnJhbWVzPTMgYl9weXJh\n",
       "bWlkPTIgYl9hZGFwdD0xIGJfYmlhcz0wIGRpcmVjdD0xIHdlaWdodGI9MSBvcGVuX2dvcD0wIHdl\n",
       "aWdodHA9MiBrZXlpbnQ9MjUwIGtleWludF9taW49MjUgc2NlbmVjdXQ9NDAgaW50cmFfcmVmcmVz\n",
       "aD0wIHJjX2xvb2thaGVhZD00MCByYz1jcmYgbWJ0cmVlPTEgY3JmPTIzLjAgcWNvbXA9MC42MCBx\n",
       "cG1pbj0wIHFwbWF4PTY5IHFwc3RlcD00IGlwX3JhdGlvPTEuNDAgYXE9MToxLjAwAIAAAAclZYiE\n",
       "AH/+9KP4FNGWTDDflx/zyKNEKMlkgMwpkAAAAwABtJtR863m/qADz/cqNDZChha/LrpvIn01m4A3\n",
       "KFq4wKY5zCKffuVkRrFjpq/A0Gw6XYRmdbKoJlsSccTD+tzS3FVTg7nfB7Na8ytNYceTYSa7m+p5\n",
       "jZUCa7+BX4/O4rJtoya2xz8kJP5fcms7aqT2wRj2XPcJT6RuPK5ElilrGKKKMXdxxuFR8++5B5QV\n",
       "o4Ye0/0l6kq737oQoo3LhC3ZqjdUK9B+BIinaPkw/Jjr6feWHgJbjQ79xfIxnbAvUmTHJ+7mTCyj\n",
       "4VLM8a5UzAFrGT2KLxgOWMCnZHVCPy5HaJVLG1mq8mLFTb7xJ36zc7rISPeZg6dFqy8rcZ81BgAE\n",
       "m2ABvG4aYik586LH/O+w+vxyeRaNjn8Y/qksWu+62I27ksPgku4QfmkSaDZ1LX3AFJ3An+24gE5k\n",
       "XXbDtrWHpQFh0E04yhlrU1DqAHv7z/zOkJ/VH2unWZXMYsJGC1ahR5SpAiP7WFW3ZGBrBzMscHzv\n",
       "p5ph3HaVGTYXDaLADNWMowpqpxGJWdpMDV93dQO9CtW2SiEhh4EAaj78SYGCoCeRxhC9Okx6wYJ5\n",
       "83C99EDbmhCtE9Jvnswg1KKGbtGKZO4DJxCMqO9m1V8llT/8HtJ5wCrjUC8GkM/7AnYdEOENAgRN\n",
       "09Nt1+Y60HVdaozYSWyGK8PlKVaAj9wShyDHeMNWtKMo5vF7ouF+sTvS1YZDEWJREbRmlUXA9Tz5\n",
       "PDj4JhAfUM1ULU3OXBSUGBZkC1x5ZEfR2G9pKCy4mujIER1l/6xKTO2p46u294GlAaQDOAlH76iC\n",
       "ub9609aotPbpwKlFElrPMOVNOFAH/kdAJZXnHjHLDIv0p3+TPk8Oj/1z6DpDv1riEhMAE47w5Dwj\n",
       "s2paNsbKALYUdsZDmuSluNOXgDexKAUc+bXDUbqaOibu2lxgTO6sBQKnP/k7i0gc0Zg+lvERy/Gp\n",
       "sd76riR5YUjUzIMO6G3LhYjTysuzJrun3EZf6Y3BqWbDO/RcV0/Zro0E0UURNcgzPIA1FayZiVX0\n",
       "MkBnMs69gRgFHfwtSTag+z9RUARjtSdryrJiNSfGYlHtO3pZobCiW16m0bEaCV3DLDwK7KD9VAOD\n",
       "ISG2UMdmjTk+dF3OdHCPEX0Vb10yJvWiDofryDH9ET9kY9SzSM5y/l0A6v7ehFKcv+CW/C3F49KM\n",
       "st/uh3OnKofwgAsmjtp4ndMFXUTw8ZhANphQz+Y9yn/+kxws8NEu1AW/ixasoNiTDTZ0mPjHee/I\n",
       "9zXFOyqVdHD8g00ELhBrV0BNcAn5PzCMtbAz71hmj74lyfeyhby65cfemvu2Ri7IKeFuCHk9rEkY\n",
       "+YLfmKoO0xq5kB6kROJUvk0P06gfPF5LBUQi75+3bKNcdNHdoIsFEMCh5cWTyZTrJKHq7cexA6D7\n",
       "BynuQTs20W8QKB8bP0nwhr4YHqxxs55iY8F+rxDBFFTSOLvBbfADjzXQLGTHieMnBnvFAwcQBHte\n",
       "zkZxCclbl5bK0nEoug7azgVlEkPlDCvBh7JvhZwsrD/+2pygEkYVnIIo4QfWfOJ9dBhMZVo4Ydjh\n",
       "8rzJNPfIfiHqKN0lJLsXJu0Mva81+bTbSAHG/TJP5in18gwvG3n7zToSMW261tDSxiKJIOh++ZjV\n",
       "Tzsvkx68C29mA+dLCBYRr+WFFi3ImxwXm1iaFKOr6wXMvUfAId8CsuBPY7OZoamYVQcM/DZbgdfo\n",
       "GIH+gAq/Ix7eaX16teQkRaQJg1KYeqXo276CVikStEuNmKYFJtIxxJY5drPgl8n4pm/eVDvqPGfb\n",
       "oqzrBpYWAFCTadAJZZcObN20UYNrsRnhjmo/bavC8ABCG95JGpucVjGthICmJY2bQw7z+bJkLKIO\n",
       "NJbiyYZ/p7AXa5flHUa8/sZj06gyM/hKZONmIK6VW0zM/6qiUwaSjaJSd2O2a1GGYOeKaP3dswGc\n",
       "1K1+Vs7XL20l4UL79whV9TnYVvX2tnjLPjFTZCM9h0luzNAczbCSy+JSwxxpvdx6ljPHkOzl3cHY\n",
       "ft6iQlx1O9jjME3YpW1/qUc8nzVMP07zCW66palwSeIZLquYRvrSmNahmWe4YxE0UQ6pjduENb2f\n",
       "eVvxlmci7c+RijZHl2T3FPndC3e0SeWV3o1EhqWFnXagneHc9wux2q2FgR18TcSXNf3adHYZJ7L3\n",
       "2Ju2nbnjCiio/z+NOyCKGt8XoVad7laZDmHqKhSqLSdnyHc6Jz0kATmI2b4zk4LJWm6LyVcCAjwe\n",
       "al4864WH4hLRDNVI1tVfjGTyahtaEb19/2kHpmejva39ivUETjXH+tbAvhn208YF1iKK24HkBdqT\n",
       "WybvUuBJGDL7c6PEW4D4GfcLj02y9Mw4AW8TniCumU7SUqYWjqBDRN19kj+ZKlEX95SbyMgAHqPY\n",
       "LmEAAAMKbW9vdgAAAGxtdmhkAAAAAAAAAAAAAAAAAAAD6AAAABQAAQAAAQAAAAAAAAAAAAAAAAEA\n",
       "AAAAAAAAAAAAAAAAAAABAAAAAAAAAAAAAAAAAABAAAAAAAAAAAAAAAAAAAAAAAAAAAAAAAAAAAAA\n",
       "AAAAAgAAAjR0cmFrAAAAXHRraGQAAAADAAAAAAAAAAAAAAABAAAAAAAAABQAAAAAAAAAAAAAAAAA\n",
       "AAAAAAEAAAAAAAAAAAAAAAAAAAABAAAAAAAAAAAAAAAAAABAAAAAAbAAAAEgAAAAAAAkZWR0cwAA\n",
       "ABxlbHN0AAAAAAAAAAEAAAAUAAAAAAABAAAAAAGsbWRpYQAAACBtZGhkAAAAAAAAAAAAAAAAAAAy\n",
       "AAAAAQBVxAAAAAAALWhkbHIAAAAAAAAAAHZpZGUAAAAAAAAAAAAAAABWaWRlb0hhbmRsZXIAAAAB\n",
       "V21pbmYAAAAUdm1oZAAAAAEAAAAAAAAAAAAAACRkaW5mAAAAHGRyZWYAAAAAAAAAAQAAAAx1cmwg\n",
       "AAAAAQAAARdzdGJsAAAAs3N0c2QAAAAAAAAAAQAAAKNhdmMxAAAAAAAAAAEAAAAAAAAAAAAAAAAA\n",
       "AAAAAbABIABIAAAASAAAAAAAAAABAAAAAAAAAAAAAAAAAAAAAAAAAAAAAAAAAAAAAAAAAAAAGP//\n",
       "AAAAMWF2Y0MBZAAe/+EAGGdkAB6s2UGwloQAAAMABAAAAwGQPFi2WAEABmjr48siwAAAABx1dWlk\n",
       "a2hA8l8kT8W6OaUbzwMj8wAAAAAAAAAYc3R0cwAAAAAAAAABAAAAAQAAAQAAAAAcc3RzYwAAAAAA\n",
       "AAABAAAAAQAAAAEAAAABAAAAFHN0c3oAAAAAAAAJ2wAAAAEAAAAUc3RjbwAAAAAAAAABAAAALAAA\n",
       "AGJ1ZHRhAAAAWm1ldGEAAAAAAAAAIWhkbHIAAAAAAAAAAG1kaXJhcHBsAAAAAAAAAAAAAAAALWls\n",
       "c3QAAAAlqXRvbwAAAB1kYXRhAAAAAQAAAABMYXZmNTcuMzguMTAw\n",
       "\">\n",
       "  Your browser does not support the video tag.\n",
       "</video>"
      ],
      "text/plain": [
       "<IPython.core.display.HTML object>"
      ]
     },
     "execution_count": 6,
     "metadata": {},
     "output_type": "execute_result"
    },
    {
     "data": {
      "image/png": "[encoded data removed]",
      "text/plain": [
       "<matplotlib.figure.Figure at 0x1f6bd136128>"
      ]
     },
     "metadata": {},
     "output_type": "display_data"
    }
   ],
   "source": [
    "fig = plt.figure()\n",
    "ax = plt.axes(xlim=(0, 600), ylim=(0, 600))\n",
    "ax.set_aspect(\"equal\")\n",
    "\n",
    "space = setup_space()\n",
    "setup_balls(space)\n",
    "\n",
    "for shape in space.shapes:\n",
    "    p = plt.Circle(shape.body.position, shape.radius)\n",
    "    shape.patch = p\n",
    "    ax.add_patch(p)\n",
    "for pin_joint in space.constraints:\n",
    "    p1 = pin_joint.a.position + pin_joint.anchor_a\n",
    "    p2 = pin_joint.b.position + pin_joint.anchor_b\n",
    "    l = plt.Line2D([p1.x, p2.x], [p1.x, p2.x])\n",
    "    print(p1, p2)\n",
    "    ax.add_line(l)\n",
    "    \n",
    "\n",
    "space.shapes[0].body.apply_impulse_at_local_point((-12000,0))\n",
    "    \n",
    "def init():\n",
    "    \n",
    "    return []\n",
    "\n",
    "def animate(dt):\n",
    "    #we run the animation with half speed intentionally to make it a little nicer to look at\n",
    "    for x in range(10):\n",
    "        space.step(1/50/10/2)\n",
    "    for shape in space.shapes:\n",
    "        shape.patch.center = shape.body.position\n",
    "    return []\n",
    "\n",
    "frames = 210\n",
    "frames = 1\n",
    "# call the animator.  blit=True means only re-draw the parts that have changed.\n",
    "anim = animation.FuncAnimation(fig, animate, init_func=init,\n",
    "                               frames=frames, interval=20, blit=False)\n",
    "\n",
    "HTML(anim.to_html5_video())"
   ]
  },
  {
   "cell_type": "code",
   "execution_count": 22,
   "metadata": {
    "collapsed": false
   },
   "outputs": [],
   "source": [
    "ax.add_line?"
   ]
  },
  {
   "cell_type": "code",
   "execution_count": 29,
   "metadata": {
    "collapsed": true
   },
   "outputs": [],
   "source": [
    "ax?"
   ]
  },
  {
   "cell_type": "code",
   "execution_count": null,
   "metadata": {
    "collapsed": true
   },
   "outputs": [],
   "source": []
  }
 ],
 "metadata": {
  "kernelspec": {
   "display_name": "Python 3",
   "language": "python",
   "name": "python3"
  },
  "language_info": {
   "codemirror_mode": {
    "name": "ipython",
    "version": 3
   },
   "file_extension": ".py",
   "mimetype": "text/x-python",
   "name": "python",
   "nbconvert_exporter": "python",
   "pygments_lexer": "ipython3",
   "version": "3.5.1"
  }
 },
 "nbformat": 4,
 "nbformat_minor": 0
}
