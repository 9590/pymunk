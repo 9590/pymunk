{
 "cells": [
  {
   "cell_type": "code",
   "execution_count": 1,
   "metadata": {
    "collapsed": true
   },
   "outputs": [],
   "source": [
    "import sys\n",
    "sys.path.insert(1,'c:/code/gh/pymunk')"
   ]
  },
  {
   "cell_type": "code",
   "execution_count": 2,
   "metadata": {
    "collapsed": false
   },
   "outputs": [],
   "source": [
    "%matplotlib inline\n",
    "import matplotlib.pyplot as plt\n",
    "from matplotlib import animation\n",
    "from IPython.display import HTML"
   ]
  },
  {
   "cell_type": "code",
   "execution_count": 3,
   "metadata": {
    "collapsed": false
   },
   "outputs": [
    {
     "name": "stdout",
     "output_type": "stream",
     "text": [
      "Loading chipmunk for Windows (64bit) [c:\\code\\gh\\pymunk\\pymunk\\chipmunk64.dll]\n"
     ]
    }
   ],
   "source": [
    "import pymunk\n",
    "from pymunk.vec2d import Vec2d"
   ]
  },
  {
   "cell_type": "code",
   "execution_count": 4,
   "metadata": {
    "collapsed": true
   },
   "outputs": [],
   "source": [
    "def setup_space():\n",
    "    space = pymunk.Space()\n",
    "    space.gravity = 0,-9820\n",
    "    space.damping = 0.99\n",
    "    return space\n"
   ]
  },
  {
   "cell_type": "code",
   "execution_count": 5,
   "metadata": {
    "collapsed": true
   },
   "outputs": [],
   "source": [
    "def setup_balls(space):\n",
    "    width = 600\n",
    "    height = 600\n",
    "    for x in range(-100,150,50):\n",
    "        x += width / 2\n",
    "        offset_y = height/2\n",
    "        mass = 10\n",
    "        radius = 25\n",
    "        moment = pymunk.moment_for_circle(mass, 0, radius, (0,0))\n",
    "        body = pymunk.Body(mass, moment)\n",
    "        body.position = x, -125+offset_y\n",
    "        body.start_position = Vec2d(body.position)\n",
    "        shape = pymunk.Circle(body, radius)\n",
    "        shape.elasticity = 0.9999999\n",
    "        space.add(body, shape)\n",
    "        pj = pymunk.PinJoint(space.static_body, body, (x, 125+offset_y), (0,0))\n",
    "        space.add(pj)"
   ]
  },
  {
   "cell_type": "code",
   "execution_count": 27,
   "metadata": {
    "collapsed": false,
    "scrolled": true
   },
   "outputs": [
    {
     "name": "stdout",
     "output_type": "stream",
     "text": [
      "Vec2d(400.0, 425.0) Vec2d(400.0, 175.0)\n",
      "Vec2d(300.0, 425.0) Vec2d(300.0, 175.0)\n",
      "Vec2d(200.0, 425.0) Vec2d(200.0, 175.0)\n",
      "Vec2d(250.0, 425.0) Vec2d(250.0, 175.0)\n",
      "Vec2d(350.0, 425.0) Vec2d(350.0, 175.0)\n"
     ]
    },
    {
     "data": {
      "text/html": [
       "<video width=\"432.0\" height=\"288.0\" controls autoplay loop>\n",
       "  <source type=\"video/mp4\" src=\"data:video/mp4;base64,AAAAHGZ0eXBNNFYgAAACAGlzb21pc28yYXZjMQAAAAhmcmVlAAAJ5G1kYXQAAAKuBgX//6rcRem9\n",
       "5tlIt5Ys2CDZI+7veDI2NCAtIGNvcmUgMTQ4IHIyNjk0IDNiNzA2NDUgLSBILjI2NC9NUEVHLTQg\n",
       "QVZDIGNvZGVjIC0gQ29weWxlZnQgMjAwMy0yMDE2IC0gaHR0cDovL3d3dy52aWRlb2xhbi5vcmcv\n",
       "eDI2NC5odG1sIC0gb3B0aW9uczogY2FiYWM9MSByZWY9MyBkZWJsb2NrPTE6MDowIGFuYWx5c2U9\n",
       "MHgzOjB4MTEzIG1lPWhleCBzdWJtZT03IHBzeT0xIHBzeV9yZD0xLjAwOjAuMDAgbWl4ZWRfcmVm\n",
       "PTEgbWVfcmFuZ2U9MTYgY2hyb21hX21lPTEgdHJlbGxpcz0xIDh4OGRjdD0xIGNxbT0wIGRlYWR6\n",
       "b25lPTIxLDExIGZhc3RfcHNraXA9MSBjaHJvbWFfcXBfb2Zmc2V0PS0yIHRocmVhZHM9NiBsb29r\n",
       "YWhlYWRfdGhyZWFkcz0xIHNsaWNlZF90aHJlYWRzPTAgbnI9MCBkZWNpbWF0ZT0xIGludGVybGFj\n",
       "ZWQ9MCBibHVyYXlfY29tcGF0PTAgY29uc3RyYWluZWRfaW50cmE9MCBiZnJhbWVzPTMgYl9weXJh\n",
       "bWlkPTIgYl9hZGFwdD0xIGJfYmlhcz0wIGRpcmVjdD0xIHdlaWdodGI9MSBvcGVuX2dvcD0wIHdl\n",
       "aWdodHA9MiBrZXlpbnQ9MjUwIGtleWludF9taW49MjUgc2NlbmVjdXQ9NDAgaW50cmFfcmVmcmVz\n",
       "aD0wIHJjX2xvb2thaGVhZD00MCByYz1jcmYgbWJ0cmVlPTEgY3JmPTIzLjAgcWNvbXA9MC42MCBx\n",
       "cG1pbj0wIHFwbWF4PTY5IHFwc3RlcD00IGlwX3JhdGlvPTEuNDAgYXE9MToxLjAwAIAAAAcmZYiE\n",
       "AH/+9KP4FNGWTDDflx/zyKNEKMlkgMwpkAAAAwABtJtR863m/qADz/cqNDZChha/LrpvIn01m4A3\n",
       "KFq4wKY5zCKffuVkRrFjpq/A0Gw6XYRmdbKoJlsSccTD+tzS3FVTg7nfB7Na8ytNYceTYSa7m+p5\n",
       "jZUCa7+BX4/O4rJtoya2xz8kJP5fcms7aqT2wRj2XPcJT6RuPK5ElilrGKKKMXdxxuFR8++5B5QV\n",
       "o4Ye0/0l6kq737oQoo3LhC3ZqjdUK9B+BIinaPkw/Jjr6feWHgJbjQ79xfIxnbAvUmTHJ+7mTCyj\n",
       "4VLM8a5UzAFrGT2KLxgOWMCnZHVCPy5HaJVLG1mq8mLFTb7xJ36zc7rISPeZg6dFqy8rcZ81BgAE\n",
       "m2ABvG4aYik586LH/O+w+vxyeRaNjn8Y/qksWu+62I27ksPgku4QfmkSaDZ1LX3AFJ3An+24gE5k\n",
       "XXbDtrWHpQFh0E04yhlrU1DqAHv7z/zOkJ/VH2unWZXMYsJGC1ahR5SpAiP7WFW3ZGBrBzMscHzv\n",
       "p5ph3HaVGTYXDaLADNWMowpqpxGJWdpMDV93dQO9CtW2SiEhh4EAaj78SYGCoCeRxhC9Okx6wYJ5\n",
       "83C99EDbmhCtE9Jvnswg1KKGbtGKZO4DJxCMqO9m1V8llT/8HtJ5wCrjUC8GkM/7AnYdEOENAgRN\n",
       "09Nt1+Y60HVdaozYSWyGK8PlKVaAj9wShyDHeMNWtKMo5vF7ouF+sTvS1YZDEWJREbRmlUXA9Tz5\n",
       "PDj4JhAfUM1ULU3OXBSUGBZkC1x5ZEfR2G9pKCy4mujIER1l/6xKTO2p46u294GlAaQDOAlH76iC\n",
       "ub9609aotPbpwKlFElrPMOVNOFAH/kdAJZXnHjHLDIv0p3+TPk8Oj/1z6DpDv1riEhMAE47w5Dwj\n",
       "s2paNsbKALYUdsZDmuSluNOXgDexKAUc+bXDUbXyIZIeE2g1x4rdTjbvWRT0aRWpOxIjGQCpezHw\n",
       "AQqjnCtxOxTwZ9f4N4en7Ro2hq9dCQa9szPAitqMm+PuZt6q5mc+YyRP4M8Tj4RkVofAGp+vv87/\n",
       "/giTDgx8whSePzAPIMfCZ9WnQaf8wJxhASzjffshA/G8lWVq4TEhDgM0m5xipowvsuBfa/P0yf2p\n",
       "MUgthuKP256dhtJyR/m/S46vs5d3ehxPCE9HWjFPNWkWKMZEFsp/lEnaDI41RRrOW7ltq6OM7O6p\n",
       "dlxTEMVWVGGVEJ7Oatfc5ciITe3LPAWnRanDaMkY/hqQj0cZGDMP46IHyFI74lAWZMo3ZtAgeMNQ\n",
       "2fioCfBVfmXqWpMoifOdHDqNM/SKPzoJA/u7HQe/IxfAbY6KHnz/m8H3y4+9Nfdw6lp6wCJx3vA+\n",
       "nBG+gFHtWVj3pF2oGxDTF2gIdlOoa3qt81kSlPIK50Ew2vV1v69wzABRv6BY92PFCzDxNHvOo3mp\n",
       "Rzlkj+GAk7woqEIOAa2UMsVGhr0ajHiZvJhTGMJzFXFdygAnM3KQdwR3KfBQH9IWfe7VMAKA1vnW\n",
       "LGcaEyShK4HaiJm2Aknv/zEvcz7qJXJErspgZuDqAdj3ReSWpFDo27UEirMRB26XBFRaMYWvGqgG\n",
       "W23AAUHg+Me7d7TU029nBqg/iPuP6/czZr/x1WN/3t/2ToP1c7s16lW9OX9iQayh9CfylGgp2Aon\n",
       "PT4WNenU8btjBVe1GwM4spFQwaPhpJLImrxcN9zqQJrOg5ok550risYyHuOG3HL4G1oyhyLZbgdE\n",
       "1xH8zUS9+IFF7EqZ3P3ULN54Nvb3RKQ8KZeTYP8Oo5nWmx9ySjbknTUN5ljHJFSbJ2nsEGme6i5b\n",
       "RYwdBdpD3D47Bbw3/sA//uejhc9+YkyoctQQfKMLs808ADiDwpYLFjw+jN7QLX+PgSkVbPuJvyrE\n",
       "Sc4FwTQSFVMw7go9jRMpHrKsaOZfYRqWFLmTWnXSq2mdP/kPtc/hDFigJUo2bWowzBzxTR+7uAAS\n",
       "dZTOV1F9S9tJeFC+/cIVfU52Ol19rZ4xI2D1fVfc2XeVJZH+b6f+h9R9cBj0DY94Mvx5Ds5d3B3Y\n",
       "x2k4+ZO95eTfCPYpW1/qUdBWJ6GOExEHpcEQTacP/7tqXUmGoOdbA/CGcIrD6RwqqASE97n+zUfw\n",
       "DQOSJSG4V8lS9fE10vIlMBC3qrUdeY5vvpGokNSws7tUNOyfQweElT0QOmBLlZJLmv7tOjsMk90k\n",
       "Lfd4OMo7XdoxLDy2GIQIoa3xeiOsKHnvJRJkccKMn4Ww/sq5xQV9wSyJOu+QLkbtACfpraGPeNnX\n",
       "tZ3Sa6Q/+IS0QzVSNbVYH5tdyJQfrbcswcEg9Mz0d7XNsV6h0yXs7+hSVyLntp4wLq8ozSi/IC7U\n",
       "mvo1I5SPCkJEXf+mFbuEWXtwuPr0e+f/W1RDz8V36aSPw2Wkchl9FJuvskfzJUoi/vKSh0gAAAMC\n",
       "Yh/hAAADCm1vb3YAAABsbXZoZAAAAAAAAAAAAAAAAAAAA+gAAAAUAAEAAAEAAAAAAAAAAAAAAAAB\n",
       "AAAAAAAAAAAAAAAAAAAAAQAAAAAAAAAAAAAAAAAAQAAAAAAAAAAAAAAAAAAAAAAAAAAAAAAAAAAA\n",
       "AAAAAAIAAAI0dHJhawAAAFx0a2hkAAAAAwAAAAAAAAAAAAAAAQAAAAAAAAAUAAAAAAAAAAAAAAAA\n",
       "AAAAAAABAAAAAAAAAAAAAAAAAAAAAQAAAAAAAAAAAAAAAAAAQAAAAAGwAAABIAAAAAAAJGVkdHMA\n",
       "AAAcZWxzdAAAAAAAAAABAAAAFAAAAAAAAQAAAAABrG1kaWEAAAAgbWRoZAAAAAAAAAAAAAAAAAAA\n",
       "MgAAAAEAVcQAAAAAAC1oZGxyAAAAAAAAAAB2aWRlAAAAAAAAAAAAAAAAVmlkZW9IYW5kbGVyAAAA\n",
       "AVdtaW5mAAAAFHZtaGQAAAABAAAAAAAAAAAAAAAkZGluZgAAABxkcmVmAAAAAAAAAAEAAAAMdXJs\n",
       "IAAAAAEAAAEXc3RibAAAALNzdHNkAAAAAAAAAAEAAACjYXZjMQAAAAAAAAABAAAAAAAAAAAAAAAA\n",
       "AAAAAAGwASAASAAAAEgAAAAAAAAAAQAAAAAAAAAAAAAAAAAAAAAAAAAAAAAAAAAAAAAAAAAAABj/\n",
       "/wAAADFhdmNDAWQAHv/hABhnZAAerNlBsJaEAAADAAQAAAMBkDxYtlgBAAZo6+PLIsAAAAAcdXVp\n",
       "ZGtoQPJfJE/FujmlG88DI/MAAAAAAAAAGHN0dHMAAAAAAAAAAQAAAAEAAAEAAAAAHHN0c2MAAAAA\n",
       "AAAAAQAAAAEAAAABAAAAAQAAABRzdHN6AAAAAAAACdwAAAABAAAAFHN0Y28AAAAAAAAAAQAAACwA\n",
       "AABidWR0YQAAAFptZXRhAAAAAAAAACFoZGxyAAAAAAAAAABtZGlyYXBwbAAAAAAAAAAAAAAAAC1p\n",
       "bHN0AAAAJal0b28AAAAdZGF0YQAAAAEAAAAATGF2ZjU3LjM4LjEwMA==\n",
       "\">\n",
       "  Your browser does not support the video tag.\n",
       "</video>"
      ],
      "text/plain": [
       "<IPython.core.display.HTML object>"
      ]
     },
     "execution_count": 27,
     "metadata": {},
     "output_type": "execute_result"
    },
    {
     "data": {
      "image/png": "[encoded data removed]",
      "text/plain": [
       "<matplotlib.figure.Figure at 0x21684ae70b8>"
      ]
     },
     "metadata": {},
     "output_type": "display_data"
    }
   ],
   "source": [
    "fig = plt.figure()\n",
    "ax = plt.axes(xlim=(0, 600), ylim=(0, 600))\n",
    "ax.set_aspect(\"equal\")\n",
    "\n",
    "space = setup_space()\n",
    "setup_balls(space)\n",
    "\n",
    "for shape in space.shapes:\n",
    "    p = plt.Circle(shape.body.position, shape.radius)\n",
    "    shape.patch = p\n",
    "    ax.add_patch(p)\n",
    "for pin_joint in space.constraints:\n",
    "    p1 = pin_joint.a.position + pin_joint.anchor_a\n",
    "    p2 = pin_joint.b.position + pin_joint.anchor_b\n",
    "    l = plt.Line2D([p1.x, p2.x], [p1.x, p2.x])\n",
    "    print(p1, p2)\n",
    "    ax.add_line(l)\n",
    "    \n",
    "\n",
    "space.shapes[0].body.apply_impulse_at_local_point((-12000,0))\n",
    "    \n",
    "def init():\n",
    "    \n",
    "    return []\n",
    "\n",
    "def animate(dt):\n",
    "    #we run the animation with half speed intentionally to make it a little nicer to look at\n",
    "    for x in range(10):\n",
    "        space.step(1/50/10/2)\n",
    "    for shape in space.shapes:\n",
    "        shape.patch.center = shape.body.position\n",
    "    return []\n",
    "\n",
    "frames = 210\n",
    "frames = 1\n",
    "# call the animator.  blit=True means only re-draw the parts that have changed.\n",
    "anim = animation.FuncAnimation(fig, animate, init_func=init,\n",
    "                               frames=frames, interval=20, blit=False)\n",
    "\n",
    "HTML(anim.to_html5_video())"
   ]
  },
  {
   "cell_type": "code",
   "execution_count": 22,
   "metadata": {
    "collapsed": false
   },
   "outputs": [],
   "source": [
    "ax.add_line?"
   ]
  },
  {
   "cell_type": "code",
   "execution_count": 29,
   "metadata": {
    "collapsed": true
   },
   "outputs": [],
   "source": [
    "ax?"
   ]
  },
  {
   "cell_type": "code",
   "execution_count": null,
   "metadata": {
    "collapsed": true
   },
   "outputs": [],
   "source": []
  }
 ],
 "metadata": {
  "kernelspec": {
   "display_name": "Python 3",
   "language": "python",
   "name": "python3"
  },
  "language_info": {
   "codemirror_mode": {
    "name": "ipython",
    "version": 3
   },
   "file_extension": ".py",
   "mimetype": "text/x-python",
   "name": "python",
   "nbconvert_exporter": "python",
   "pygments_lexer": "ipython3",
   "version": "3.5.1"
  }
 },
 "nbformat": 4,
 "nbformat_minor": 0
}
