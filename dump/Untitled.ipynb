{
 "cells": [
  {
   "cell_type": "code",
   "execution_count": 1,
   "metadata": {
    "collapsed": true
   },
   "outputs": [],
   "source": [
    "import sys\n",
    "sys.path.insert(1,'c:/code/gh/pymunk')"
   ]
  },
  {
   "cell_type": "code",
   "execution_count": 2,
   "metadata": {
    "collapsed": true
   },
   "outputs": [],
   "source": [
    "%matplotlib inline\n",
    "import matplotlib.pyplot as plt\n",
    "#from matplotlib import animation\n",
    "#from IPython.display import HTML"
   ]
  },
  {
   "cell_type": "code",
   "execution_count": 3,
   "metadata": {
    "collapsed": false
   },
   "outputs": [
    {
     "name": "stdout",
     "output_type": "stream",
     "text": [
      "Loading chipmunk for Windows (64bit) [c:\\code\\gh\\pymunk\\pymunk\\chipmunk64.dll]\n"
     ]
    }
   ],
   "source": [
    "import pymunk\n",
    "from pymunk.vec2d import Vec2d"
   ]
  },
  {
   "cell_type": "code",
   "execution_count": 4,
   "metadata": {
    "collapsed": false
   },
   "outputs": [],
   "source": [
    "sys.path.insert(1, \"c:/code/gh/pymunk/examples\")\n",
    "from shapes_for_draw_demos import fill_space\n"
   ]
  },
  {
   "cell_type": "code",
   "execution_count": 5,
   "metadata": {
    "collapsed": false
   },
   "outputs": [],
   "source": [
    "space = pymunk.Space()\n",
    "fill_space(space)\n"
   ]
  },
  {
   "cell_type": "code",
   "execution_count": 8,
   "metadata": {
    "collapsed": false
   },
   "outputs": [],
   "source": [
    "def draw(ax, *objs):\n",
    "    \"\"\"Draw one or many pymunk objects on a matplotlib Axes object. It is perfectly fine to pass in a \n",
    "    whole Space object.\n",
    "    \n",
    "    Objects that can be handled are:\n",
    "        * pymunk.Space\n",
    "        * pymunk.Segment\n",
    "        * pymunk.Circle\n",
    "        * pymunk.Poly\n",
    "        * pymunk.Constraint (partial)\n",
    "    \n",
    "    If a Space is passed in all shapes in that space will be drawn. \n",
    "    Unrecognized objects will be ignored (for example if you pass in a \n",
    "    constraint that is not supported).\n",
    "    \n",
    "    Typical usage::\n",
    "    \n",
    "    >>> fix, ax = matplotlib.subplot()\n",
    "    >>> pymunk.matplotlib_util.draw(ax, my_space)\n",
    "    \n",
    "    You can control the color of a Shape by setting shape.color to the color \n",
    "    you want it drawn in.\n",
    "    \n",
    "    >>> my_shape.color = (255, 0, 0) # will draw my_shape in red\n",
    "    \n",
    "    If you do not want a shape to be drawn, set shape.ignore_draw to True.\n",
    "    \n",
    "    >>> my_shape.ignore_draw = True\n",
    "    \n",
    "    (However, if you want to ignore most shapes its probably more performant \n",
    "    to only pass in those shapes that you want to be drawn to the draw method)\n",
    "    \n",
    "    See matplotlib_util.demo.py for a full example\n",
    "    \n",
    "    :Param:\n",
    "            ax: matplotlib.Axes\n",
    "                A matplotlib Axes object.\n",
    "            objs : One or many objects to draw.\n",
    "                Can be either a single object or a list like container with \n",
    "                objects.\n",
    "    \n",
    "    \"\"\"\n",
    "        \n",
    "    for o in objs:\n",
    "        if isinstance(o, pymunk.Space):\n",
    "            _draw_space(o, ax=ax)\n",
    "        elif isinstance(o, pymunk.Shape):\n",
    "            _draw_shape(o, ax=ax)\n",
    "        elif isinstance(o, pymunk.Constraint):\n",
    "            _draw_constraint(o, ax=ax)\n",
    "        elif hasattr(o, '__iter__'):\n",
    "            for oo in o:\n",
    "                draw(ax, oo)\n",
    "                \n",
    "def _draw_space(space, **kwargs):\n",
    "    \n",
    "    for s in space.shapes:\n",
    "        if not (hasattr(s, \"ignore_draw\") and s.ignore_draw):\n",
    "            _draw_shape(s, **kwargs)\n",
    "            \n",
    "    for c in space.constraints:\n",
    "        if not (hasattr(c, \"ignore_draw\") and c.ignore_draw):\n",
    "            _draw_constraint(s, **kwargs)\n",
    "\n",
    "def _draw_shape(shape, **kwargs):\n",
    "    \n",
    "    if isinstance(shape, pymunk.Circle):\n",
    "        _draw_circle(shape, **kwargs)\n",
    "    elif isinstance(shape, pymunk.Segment):\n",
    "        _draw_segment(shape, **kwargs)\n",
    "    elif  isinstance(shape, pymunk.Poly):\n",
    "        _draw_poly(shape, **kwargs)\n",
    "        \n",
    "def _draw_circle(circle, ax=None):\n",
    "    circle_center = circle.body.position + circle.offset.rotated(circle.body.angle)\n",
    "    \n",
    "    if hasattr(circle, \"color\"):\n",
    "        color = circle.color\n",
    "        if isinstance(circle.color, tuple) and len(circle.color) == 3:\n",
    "            if isinstance(circle.color[0], int):\n",
    "                color = circle.color[0]/255, circle.color[1]/255, circle.color[2]/255\n",
    "                \n",
    "    elif circle.body.body_type == pymunk.Body.STATIC:\n",
    "        color = \"dimgrey\"\n",
    "    else:\n",
    "        color = \"red\"\n",
    "    \n",
    "    p = plt.Circle(circle_center, circle.radius, facecolor=color, edgecolor='None')\n",
    "    \n",
    "    ax.add_patch(p)\n",
    "    \n",
    "    circle_edge = circle_center + Vec2d(circle.radius, 0).rotated(circle.body.angle)\n",
    "    lw = 3 if circle.radius > 20 else 1\n",
    "    lw = 1\n",
    "    color = \"darkred\"\n",
    "    line = plt.Line2D([circle_center.x, circle_edge.x], [circle_center.y, circle_edge.y], linewidth=lw, color=color)\n",
    "    line.set_solid_capstyle(\"round\")\n",
    "    ax.add_line(line)\n",
    "    \n",
    "\n",
    "def _draw_segment(segment, ax=None):\n",
    "    body = segment.body\n",
    "    p1 = body.position + segment.a.rotated(body.angle)\n",
    "    p2 = body.position + segment.b.rotated(body.angle)\n",
    "    \n",
    "    lw = max(int(segment.radius*2),1)\n",
    "    \n",
    "    if hasattr(segment, \"color\"):\n",
    "        color = segment.color  \n",
    "    elif segment.body.body_type == pymunk.Body.STATIC:\n",
    "        color = \"dimgrey\"\n",
    "    else:\n",
    "        color = \"blue\"\n",
    "    line = plt.Line2D([p1.x, p2.x], [p1.y, p2.y], linewidth=lw, color=color)\n",
    "    line.set_solid_capstyle(\"round\")\n",
    "    ax.add_line(line)\n",
    "    \n",
    "def _draw_poly(poly, ax=None):\n",
    "    offset = 0,0\n",
    "    angle = 0\n",
    "    if poly.body != None:\n",
    "        offset = poly.body.position\n",
    "        angle = poly.body.angle\n",
    "    ps = [p.rotated(angle) + offset for p in poly.get_vertices()]\n",
    "    \n",
    "    lw = max(int(poly.radius*2),1)\n",
    "    \n",
    "    if hasattr(poly, \"color\"):\n",
    "        color = poly.color  \n",
    "    elif poly.body.body_type == pymunk.Body.STATIC:\n",
    "        color = \"dimgrey\"\n",
    "    else:\n",
    "        color = \"green\"\n",
    "    p = plt.Polygon(ps, linewidth=lw, joinstyle=\"round\", facecolor=color, edgecolor=color)\n",
    "    ax.add_patch(p)\n",
    "\n",
    "def _draw_constraint(constraint, ax=None):\n",
    "    #print(ax)\n",
    "    pass"
   ]
  },
  {
   "cell_type": "code",
   "execution_count": 9,
   "metadata": {
    "collapsed": false
   },
   "outputs": [
    {
     "data": {
      "image/png": "[encoded data removed]",
      "text/plain": [
       "<matplotlib.figure.Figure at 0x1eb0648a470>"
      ]
     },
     "metadata": {},
     "output_type": "display_data"
    }
   ],
   "source": [
    "fig = plt.figure(figsize=(10,10))\n",
    "ax = plt.axes(xlim=(0, 600), ylim=(0, 600))\n",
    "ax.set_aspect(\"equal\")\n",
    "\n",
    "draw(ax, space)"
   ]
  },
  {
   "cell_type": "code",
   "execution_count": null,
   "metadata": {
    "collapsed": true
   },
   "outputs": [],
   "source": []
  },
  {
   "cell_type": "code",
   "execution_count": null,
   "metadata": {
    "collapsed": true
   },
   "outputs": [],
   "source": []
  }
 ],
 "metadata": {
  "kernelspec": {
   "display_name": "Python 3",
   "language": "python",
   "name": "python3"
  },
  "language_info": {
   "codemirror_mode": {
    "name": "ipython",
    "version": 3
   },
   "file_extension": ".py",
   "mimetype": "text/x-python",
   "name": "python",
   "nbconvert_exporter": "python",
   "pygments_lexer": "ipython3",
   "version": "3.5.1"
  }
 },
 "nbformat": 4,
 "nbformat_minor": 0
}
